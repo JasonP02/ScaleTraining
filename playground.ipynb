{
 "cells": [
  {
   "cell_type": "markdown",
   "id": "f0183c93",
   "metadata": {},
   "source": [
    "Batching investigations: how much of batches are just padding tokens?"
   ]
  },
  {
   "cell_type": "code",
   "execution_count": 13,
   "id": "0f7ef16e",
   "metadata": {},
   "outputs": [],
   "source": [
    "from dataload import load_dataset, load_tokenized_dataset\n",
    "from config import Config\n",
    "from datasets import load_dataset\n",
    "cfg = Config()"
   ]
  },
  {
   "cell_type": "code",
   "execution_count": 28,
   "id": "ac2ab47b",
   "metadata": {},
   "outputs": [
    {
     "name": "stdout",
     "output_type": "stream",
     "text": [
      "DatasetDict({\n",
      "    train: Dataset({\n",
      "        features: ['text'],\n",
      "        num_rows: 2119719\n",
      "    })\n",
      "    validation: Dataset({\n",
      "        features: ['text'],\n",
      "        num_rows: 21990\n",
      "    })\n",
      "})\n",
      "{'text': Value('string')}\n",
      "------------\n",
      "['text']\n",
      "------------\n",
      "{'text': 'One day, a little girl named Lily found a needle in her room. She knew it was difficult to play with it because it was sharp. Lily wanted to share the needle with her mom, so she could sew a button on her shirt.\\n\\nLily went to her mom and said, \"Mom, I found this needle. Can you share it with me and sew my shirt?\" Her mom smiled and said, \"Yes, Lily, we can share the needle and fix your shirt.\"\\n\\nTogether, they shared the needle and sewed the button on Lily\\'s shirt. It was not difficult for them because they were sharing and helping each other. After they finished, Lily thanked her mom for sharing the needle and fixing her shirt. They both felt happy because they had shared and worked together.'}\n"
     ]
    }
   ],
   "source": [
    "ds = load_dataset('roneneldan/TinyStories')\n",
    "print(ds)\n",
    "print(ds['train'].features)\n",
    "print('------------')\n",
    "print(ds['train'].column_names)\n",
    "print('------------')\n",
    "print(ds['train'][0])\n"
   ]
  },
  {
   "cell_type": "code",
   "execution_count": 1,
   "id": "0bab3561",
   "metadata": {},
   "outputs": [
    {
     "name": "stderr",
     "output_type": "stream",
     "text": [
      "/home/j/miniconda3/envs/j/lib/python3.10/site-packages/tqdm/auto.py:21: TqdmWarning: IProgress not found. Please update jupyter and ipywidgets. See https://ipywidgets.readthedocs.io/en/stable/user_install.html\n",
      "  from .autonotebook import tqdm as notebook_tqdm\n"
     ]
    }
   ],
   "source": [
    "from datasets import load_from_disk\n",
    "ds = load_from_disk(\"datasets/train\")\n",
    "\n",
    "lengths = [len(x) for x in ds[\"input_ids\"]]"
   ]
  },
  {
   "cell_type": "code",
   "execution_count": 2,
   "id": "14c0754a",
   "metadata": {},
   "outputs": [
    {
     "name": "stdout",
     "output_type": "stream",
     "text": [
      "2119719\n"
     ]
    }
   ],
   "source": [
    "print(len(lengths))"
   ]
  }
 ],
 "metadata": {
  "kernelspec": {
   "display_name": "j",
   "language": "python",
   "name": "python3"
  },
  "language_info": {
   "codemirror_mode": {
    "name": "ipython",
    "version": 3
   },
   "file_extension": ".py",
   "mimetype": "text/x-python",
   "name": "python",
   "nbconvert_exporter": "python",
   "pygments_lexer": "ipython3",
   "version": "3.10.18"
  }
 },
 "nbformat": 4,
 "nbformat_minor": 5
}
